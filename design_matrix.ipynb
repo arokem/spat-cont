{
 "metadata": {
  "kernelspec": {
   "codemirror_mode": {
    "name": "python",
    "version": 2
   },
   "display_name": "Python 2",
   "language": "python",
   "name": "python2"
  },
  "name": "",
  "signature": "sha256:fa44646ac9b486d70635d98ab56491e944071b529320dcf4e0c70a8b514dd4d2"
 },
 "nbformat": 3,
 "nbformat_minor": 0,
 "worksheets": [
  {
   "cells": [
    {
     "cell_type": "code",
     "collapsed": true,
     "input": [],
     "language": "python",
     "metadata": {},
     "outputs": [],
     "prompt_number": 0
    },
    {
     "cell_type": "code",
     "collapsed": true,
     "input": [
      "import numpy as np\n",
      "import dipy.data as dpd\n",
      "import dipy.core.sphere as dps \n",
      "import dipy.sims as sims\n",
      "import dipy.core.gradients as grad\n",
      "import dipy.core.geometry as geo"
     ],
     "language": "python",
     "metadata": {},
     "outputs": [],
     "prompt_number": 12
    },
    {
     "cell_type": "code",
     "collapsed": false,
     "input": [
      "s1 = dpd.get_sphere()"
     ],
     "language": "python",
     "metadata": {},
     "outputs": [],
     "prompt_number": 3
    },
    {
     "cell_type": "code",
     "collapsed": false,
     "input": [
      "s1.vertices.shape"
     ],
     "language": "python",
     "metadata": {},
     "outputs": [
      {
       "metadata": {},
       "output_type": "pyout",
       "prompt_number": 5,
       "text": [
        "(362, 3)"
       ]
      }
     ],
     "prompt_number": 5
    },
    {
     "cell_type": "code",
     "collapsed": false,
     "input": [
      "def l2norm(vector):\n",
      "    \"\"\" \n",
      "    \n",
      "    \n",
      "    \"\"\"\n",
      "    return vector / np.dot(vector, vector)\n",
      "    "
     ],
     "language": "python",
     "metadata": {},
     "outputs": [],
     "prompt_number": 28
    },
    {
     "cell_type": "code",
     "collapsed": false,
     "input": [],
     "language": "python",
     "metadata": {},
     "outputs": []
    },
    {
     "cell_type": "code",
     "collapsed": false,
     "input": [
      "import dipy.reconst.dti as dti"
     ],
     "language": "python",
     "metadata": {},
     "outputs": [],
     "prompt_number": 9
    },
    {
     "cell_type": "code",
     "collapsed": false,
     "input": [
      "def single_tensor(evecs, evals, bvec, bval=1, S0=1):\n",
      "    R = np.asarray(evecs)\n",
      "    D = np.dot(np.dot(R, np.diag(evals)), R.T)\n",
      "    return S0 * np.exp(-bval * np.dot(np.dot(bvec.T, D), bvec))"
     ],
     "language": "python",
     "metadata": {},
     "outputs": [],
     "prompt_number": 53
    },
    {
     "cell_type": "code",
     "collapsed": false,
     "input": [
      "def design_signal(location, out_dir, in_dir, evals=np.array([1.5, 0.5, 0.5]), bval=1):\n",
      "\n",
      "    \"\"\"\n",
      "    location : the center-to-center location (relative to 0,0,0)\n",
      "    \n",
      "    in_dir : observations\n",
      "    out_dir : parameters\n",
      "    \n",
      "    \n",
      "    \"\"\" \n",
      "    canon_tensor = np.array([[evals[0], 0, 0], [0, evals[1], 0], [0, 0, evals[2]]])\n",
      "    rot_matrix = geo.vec2vec_rotmat([1,0,0], out_dir)\n",
      "    out_tensor = np.dot(rot_matrix, canon_tensor)\n",
      "    evals, evecs = dti.decompose_tensor(out_tensor)\n",
      "    norm_location = l2norm(location)\n",
      "    out_corr = np.dot(norm_location, out_dir)\n",
      "    return out_corr * single_tensor(evecs, evals, out_dir, bval=bval, S0=1)\n",
      "    \n",
      "    "
     ],
     "language": "python",
     "metadata": {},
     "outputs": [],
     "prompt_number": 54
    },
    {
     "cell_type": "code",
     "collapsed": false,
     "input": [
      "def test_design_signal():\n",
      "    sig1 = design_signal(np.array([1,0,0]), np.array([1,0,0]), np.array([1,0,0]))\n",
      "    sig2 = single_tensor(np.eye(3), np.array([1.5, 0.5, 0.5]), np.array([1,0,0])) \n",
      "    assert sig1 == sig2\n",
      "              "
     ],
     "language": "python",
     "metadata": {},
     "outputs": [],
     "prompt_number": 57
    },
    {
     "cell_type": "code",
     "collapsed": false,
     "input": [
      "test_design_signal()"
     ],
     "language": "python",
     "metadata": {},
     "outputs": [],
     "prompt_number": 58
    },
    {
     "cell_type": "code",
     "collapsed": false,
     "input": [
      "sig1 = design_signal(np.array([1,0,0]), np.array([1,0,0]), np.array([1,0,0]))"
     ],
     "language": "python",
     "metadata": {},
     "outputs": [],
     "prompt_number": 59
    },
    {
     "cell_type": "code",
     "collapsed": false,
     "input": [
      "sig1"
     ],
     "language": "python",
     "metadata": {},
     "outputs": [
      {
       "metadata": {},
       "output_type": "pyout",
       "prompt_number": 60,
       "text": [
        "0.22313016014842982"
       ]
      }
     ],
     "prompt_number": 60
    },
    {
     "cell_type": "code",
     "collapsed": true,
     "input": [
      "def design_matrix(sphere, bvecs):\n",
      "    \"\"\" \n",
      "    \n",
      "    \n",
      "    \n",
      "    \"\"\"\n",
      "    \n",
      "    "
     ],
     "language": "python",
     "metadata": {},
     "outputs": []
    },
    {
     "cell_type": "code",
     "collapsed": false,
     "input": [],
     "language": "python",
     "metadata": {},
     "outputs": []
    }
   ],
   "metadata": {}
  }
 ]
}