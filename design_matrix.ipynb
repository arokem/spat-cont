{
 "cells": [
  {
   "cell_type": "code",
   "execution_count": 0,
   "metadata": {
    "collapsed": true
   },
   "outputs": [],
   "source": []
  },
  {
   "cell_type": "code",
   "execution_count": 1,
   "metadata": {
    "collapsed": true
   },
   "outputs": [],
   "source": [
    "import numpy as np\n",
    "import scipy.optimize as opt\n",
    "import matplotlib.pyplot as plt\n",
    "%matplotlib inline\n",
    "\n",
    "import dipy.data as dpd\n",
    "import dipy.core.sphere as dps \n",
    "import dipy.sims as sims\n",
    "import dipy.core.gradients as grad\n",
    "import dipy.core.geometry as geo\n",
    "import nibabel as nib\n",
    "\n",
    "\n"
   ]
  },
  {
   "cell_type": "code",
   "execution_count": 2,
   "metadata": {
    "collapsed": false
   },
   "outputs": [
    {
     "name": "stderr",
     "output_type": "stream",
     "text": [
      "/Users/arokem/anaconda/lib/python3.4/site-packages/dipy/core/gradients.py:124: RuntimeWarning: invalid value encountered in less_equal\n",
      "  bvecs_close_to_1 = abs(vector_norm(bvecs) - 1) <= atol\n"
     ]
    }
   ],
   "source": [
    "fdata, fbval, fbvec = dpd.get_data()\n",
    "gtab = grad.gradient_table(fbval, fbvec)\n",
    "gtab.bvals = gtab.bvals/1000. # Make the units work out"
   ]
  },
  {
   "cell_type": "code",
   "execution_count": 3,
   "metadata": {
    "collapsed": true
   },
   "outputs": [],
   "source": [
    "data_ni = nib.load(fdata)"
   ]
  },
  {
   "cell_type": "code",
   "execution_count": 4,
   "metadata": {
    "collapsed": false
   },
   "outputs": [
    {
     "data": {
      "text/plain": [
       "<nibabel.nifti1.Nifti1Image at 0x10494b080>"
      ]
     },
     "execution_count": 4,
     "metadata": {},
     "output_type": "execute_result"
    }
   ],
   "source": [
    "data_ni"
   ]
  },
  {
   "cell_type": "code",
   "execution_count": 5,
   "metadata": {
    "collapsed": true
   },
   "outputs": [],
   "source": [
    "data = data_ni.get_data()"
   ]
  },
  {
   "cell_type": "code",
   "execution_count": 6,
   "metadata": {
    "collapsed": false
   },
   "outputs": [
    {
     "data": {
      "text/plain": [
       "array([ 0.        ,  0.99287978,  1.00102157,  0.99096331,  1.00036425,\n",
       "        0.99425127,  0.99397785,  0.98918899,  0.99691968,  0.99116247,\n",
       "        0.9974664 ,  0.99540734,  0.99196243,  0.99312528,  0.99407712,\n",
       "        0.98797313,  0.99766205,  0.99000655,  0.98992256,  0.99831979,\n",
       "        0.99480385,  0.99683871,  0.99164865,  0.99447198,  0.99401681,\n",
       "        0.98796076,  1.00299124,  0.99949294,  0.98761528,  0.99806216,\n",
       "        0.99473041,  0.99171649,  0.98772035,  0.98694619,  0.98959543,\n",
       "        0.99598116,  0.99306809,  1.00057236,  0.99671579,  0.99046733,\n",
       "        0.98969681,  0.9961932 ,  0.99811798,  0.99063137,  0.99385377,\n",
       "        0.99680916,  0.99249767,  1.001038  ,  0.99337285,  0.99531404,\n",
       "        0.99264883,  0.99840489,  0.99726554,  0.99255517,  0.98901376,\n",
       "        0.98857206,  1.0002916 ,  0.99189215,  1.0011105 ,  0.99051374,\n",
       "        1.00148146,  0.98846483,  0.99037331,  0.99445498,  1.00169366])"
      ]
     },
     "execution_count": 6,
     "metadata": {},
     "output_type": "execute_result"
    }
   ],
   "source": [
    "gtab.bvals"
   ]
  },
  {
   "cell_type": "code",
   "execution_count": 7,
   "metadata": {
    "collapsed": false
   },
   "outputs": [],
   "source": [
    "sph1 = dpd.get_sphere()\n",
    "#sph1 = dps.Sphere(xyz=[[1,0,0], [0,1,0], [0,0,1]])\n"
   ]
  },
  {
   "cell_type": "code",
   "execution_count": 8,
   "metadata": {
    "collapsed": false
   },
   "outputs": [],
   "source": [
    "def l2norm(vector):\n",
    "    \"\"\" \n",
    "    \n",
    "    \n",
    "    \"\"\"\n",
    "    return vector / np.dot(vector, vector)\n",
    "    "
   ]
  },
  {
   "cell_type": "code",
   "execution_count": 9,
   "metadata": {
    "collapsed": false
   },
   "outputs": [],
   "source": [
    "import dipy.reconst.dti as dti"
   ]
  },
  {
   "cell_type": "code",
   "execution_count": 10,
   "metadata": {
    "collapsed": false
   },
   "outputs": [],
   "source": [
    "def single_tensor(evecs, evals, bvec, bval=1, S0=1):\n",
    "    R = np.asarray(evecs)\n",
    "    D = np.dot(np.dot(R, np.diag(evals)), R.T)\n",
    "    return S0 * np.exp(-bval * np.dot(np.dot(bvec, D), bvec.T))"
   ]
  },
  {
   "cell_type": "code",
   "execution_count": 11,
   "metadata": {
    "collapsed": true
   },
   "outputs": [],
   "source": [
    "out_dir=np.array([1, 0, 0]) \n",
    "evals=np.array([1.5, 0.5, 0.5]) \n",
    "bval=1"
   ]
  },
  {
   "cell_type": "code",
   "execution_count": 12,
   "metadata": {
    "collapsed": false
   },
   "outputs": [],
   "source": [
    "def out_signal(in_dir, out_dir, evals=np.array([1.5, 0.5, 0.5]), bval=1):\n",
    "    # Rotate the canonical tensor towards the output direction and  \n",
    "    # calculate the signal you would have gotten in the direction\n",
    "    evals = np.asarray(evals)\n",
    "    canon_tensor = np.array([[evals[0], 0, 0], [0, evals[1], 0], [0, 0, evals[2]]])\n",
    "    rot_matrix = geo.vec2vec_rotmat(np.array([1,0,0]), out_dir)\n",
    "    out_tensor = np.dot(rot_matrix, canon_tensor)\n",
    "    _, evecs = dti.decompose_tensor(out_tensor)\n",
    "    s = single_tensor(evecs, evals, in_dir, bval=bval, S0=1)    \n",
    "    return s"
   ]
  },
  {
   "cell_type": "code",
   "execution_count": 13,
   "metadata": {
    "collapsed": true
   },
   "outputs": [],
   "source": [
    "def distance_weight(dist, tau=1):\n",
    "    return np.exp(-dist/tau)"
   ]
  },
  {
   "cell_type": "code",
   "execution_count": 14,
   "metadata": {
    "collapsed": true
   },
   "outputs": [],
   "source": [
    "def weighting(location, out_dir):\n",
    "    norm_location = l2norm(location)\n",
    "    out_corr = np.dot(norm_location, out_dir)    \n",
    "    return distance_weight(np.dot(location, location)) * out_corr "
   ]
  },
  {
   "cell_type": "code",
   "execution_count": 15,
   "metadata": {
    "collapsed": false
   },
   "outputs": [],
   "source": [
    "def design_signal(location, in_dir, out_dir, evals=np.array([1.5, 0.5, 0.5]), bval=1):\n",
    "\n",
    "    \"\"\"\n",
    "    location : the center-to-center location (relative to 0,0,0)\n",
    "    \n",
    "    in_dir : observations\n",
    "    out_dir : parameters\n",
    "    \n",
    "    \n",
    "    \"\"\" \n",
    "    this_signal = out_signal(in_dir, out_dir, evals=evals, bval=bval)\n",
    "    # If you are at the center location:\n",
    "    if np.all(location == np.array([0, 0, 0])):\n",
    "        return this_signal\n",
    "\n",
    "    # Otherwise, we need to downweight by distance and angle \n",
    "    else:\n",
    "        return weighting(location, out_dir) * this_signal \n",
    "    \n",
    "    "
   ]
  },
  {
   "cell_type": "code",
   "execution_count": 16,
   "metadata": {
    "collapsed": false
   },
   "outputs": [],
   "source": [
    "def test_out_signal():\n",
    "    sig1 = out_signal(np.array([1, 0, 0]), np.array([1, 0, 0]), np.array([1.5, 0.5, 0.5]), 1)\n",
    "    sig2 = single_tensor(np.eye(3), np.array([1.5, 0.5, 0.5]), np.array([1, 0, 0])) \n",
    "    assert sig1 == sig2\n",
    "              \n",
    "test_out_signal()"
   ]
  },
  {
   "cell_type": "code",
   "execution_count": 17,
   "metadata": {
    "collapsed": false
   },
   "outputs": [],
   "source": [
    "def test_design_signal():\n",
    "    sig1 = design_signal(np.array([1, 0, 0]), np.array([1, 0, 0]), np.array([1, 0, 0]))\n",
    "    sig2 = out_signal(np.array([1, 0, 0]), np.array([1, 0, 0]), np.array([1.5, 0.5, 0.5]), 1)\n",
    "\n",
    "    assert sig1 == sig2\n",
    "\n",
    "test_out_signal()"
   ]
  },
  {
   "cell_type": "code",
   "execution_count": 17,
   "metadata": {
    "collapsed": true
   },
   "outputs": [],
   "source": []
  },
  {
   "cell_type": "code",
   "execution_count": 18,
   "metadata": {
    "collapsed": true
   },
   "outputs": [],
   "source": [
    "def design_matrix(gtab, sphere, evals=np.array([1.5, 0.5, 0.5])):\n",
    "    \"\"\" \n",
    "\n",
    "    \"\"\"\n",
    "    dm = []\n",
    "    coords = [0, 1, -1]\n",
    "    rows = np.arange(np.sum(~gtab.b0s_mask))\n",
    "    columns = np.arange(sphere.x.shape[0])\n",
    "\n",
    "    for x in coords:\n",
    "        for y in coords:\n",
    "            for z in coords:\n",
    "                location = np.array([x, y, z])\n",
    "                dm.append(np.empty((np.sum(~gtab.b0s_mask), sphere.x.shape[0])))\n",
    "                for row in rows: \n",
    "                    for col in columns: \n",
    "                        dm[-1][row, col] = design_signal(location, gtab.bvecs[~gtab.b0s_mask][row], sphere.vertices[col], \n",
    "                                                         bval=gtab.bvals[~gtab.b0s_mask][row], evals=evals)\n",
    "                    \n",
    "                \n",
    "                dm[-1] = dm[-1] - np.mean(dm[-1], 0)\n",
    "    return dm\n",
    "            \n",
    "      \n",
    "    \n",
    "    \n",
    "    "
   ]
  },
  {
   "cell_type": "code",
   "execution_count": null,
   "metadata": {
    "collapsed": true
   },
   "outputs": [],
   "source": [
    "def preprocess_signal(data, gtab, i, j, k):\n",
    "    sig = []\n",
    "    coords = [0, 1, -1]\n",
    "    \n",
    "    for x in coords:\n",
    "        for y in coords:\n",
    "            for z in coords:\n",
    "                location = np.array([x, y, z])\n",
    "                this_data = data[i+x, j+y, k+z]\n",
    "                this_data = this_data[~gtab.b0s_mask] / np.mean(this_data[gtab.b0s_mask])\n",
    "                if np.all(location == np.array([0, 0, 0])):\n",
    "                    this_data = this_data - np.mean(this_data)\n",
    "                    sig.append(this_data)\n",
    "                else: \n",
    "                    weighted_sig = []\n",
    "                    for out_idx, out_dir in enumerate(gtab.bvecs[~gtab.b0s_mask]):\n",
    "                        weighted_sig.append(weighting(location, out_dir) * this_data[out_idx])\n",
    "                    sig.append(np.array(weighted_sig) - np.mean(weighted_sig))\n",
    "    return sig\n",
    "    "
   ]
  },
  {
   "cell_type": "code",
   "execution_count": null,
   "metadata": {
    "collapsed": false
   },
   "outputs": [],
   "source": [
    "dm = design_matrix(gtab, sph1, evals=np.array([1, 0.5, 0.5]))"
   ]
  },
  {
   "cell_type": "code",
   "execution_count": null,
   "metadata": {
    "collapsed": false
   },
   "outputs": [],
   "source": [
    "plt.plot(dm[0][:, -1])\n",
    "plt.plot(dm[1][:, -1])"
   ]
  },
  {
   "cell_type": "code",
   "execution_count": null,
   "metadata": {
    "collapsed": false
   },
   "outputs": [],
   "source": [
    "pp_sig = preprocess_signal(data, gtab, 5, 5, 5)"
   ]
  },
  {
   "cell_type": "code",
   "execution_count": null,
   "metadata": {
    "collapsed": false
   },
   "outputs": [],
   "source": [
    "plt.plot(np.concatenate(pp_sig))"
   ]
  },
  {
   "cell_type": "code",
   "execution_count": null,
   "metadata": {
    "collapsed": false
   },
   "outputs": [],
   "source": [
    "new_dm = np.concatenate(dm)\n",
    "new_sig = np.concatenate(pp_sig)"
   ]
  },
  {
   "cell_type": "code",
   "execution_count": null,
   "metadata": {
    "collapsed": true
   },
   "outputs": [],
   "source": []
  },
  {
   "cell_type": "code",
   "execution_count": null,
   "metadata": {
    "collapsed": true
   },
   "outputs": [],
   "source": [
    "beta, rnorm = opt.nnls(new_dm, new_sig)"
   ]
  },
  {
   "cell_type": "code",
   "execution_count": null,
   "metadata": {
    "collapsed": false
   },
   "outputs": [],
   "source": [
    "y_hat = np.dot(new_dm, beta)"
   ]
  },
  {
   "cell_type": "code",
   "execution_count": null,
   "metadata": {
    "collapsed": false
   },
   "outputs": [],
   "source": [
    "plt.scatter(y_hat, new_sig)"
   ]
  },
  {
   "cell_type": "code",
   "execution_count": null,
   "metadata": {
    "collapsed": true
   },
   "outputs": [],
   "source": []
  }
 ],
 "metadata": {
  "kernelspec": {
   "display_name": "IPython (Python 3)",
   "name": "python3"
  },
  "language_info": {
   "codemirror_mode": {
    "name": "ipython",
    "version": 3
   },
   "mimetype": "text/x-python",
   "name": "python",
   "pygments_lexer": "ipython3"
  },
  "signature": "sha256:c310dfc660641eb199d50366351b4b1a47b10f288c119c5d1f744ae49ed9d32d"
 },
 "nbformat": 4,
 "nbformat_minor": 0
}