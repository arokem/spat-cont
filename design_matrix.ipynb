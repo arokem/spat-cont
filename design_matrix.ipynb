{
 "cells": [
  {
   "cell_type": "code",
   "execution_count": 0,
   "metadata": {
    "collapsed": true
   },
   "outputs": [],
   "source": []
  },
  {
   "cell_type": "code",
   "execution_count": 1,
   "metadata": {
    "collapsed": true
   },
   "outputs": [],
   "source": [
    "import numpy as np\n",
    "import dipy.data as dpd\n",
    "import dipy.core.sphere as dps \n",
    "import dipy.sims as sims\n",
    "import dipy.core.gradients as grad\n",
    "import dipy.core.geometry as geo"
   ]
  },
  {
   "cell_type": "code",
   "execution_count": 2,
   "metadata": {
    "collapsed": false
   },
   "outputs": [],
   "source": [
    "s1 = dpd.get_sphere()"
   ]
  },
  {
   "cell_type": "code",
   "execution_count": 3,
   "metadata": {
    "collapsed": false
   },
   "outputs": [
    {
     "data": {
      "text/plain": [
       "(362, 3)"
      ]
     },
     "execution_count": 3,
     "metadata": {},
     "output_type": "execute_result"
    }
   ],
   "source": [
    "s1.vertices.shape"
   ]
  },
  {
   "cell_type": "code",
   "execution_count": 4,
   "metadata": {
    "collapsed": false
   },
   "outputs": [],
   "source": [
    "def l2norm(vector):\n",
    "    \"\"\" \n",
    "    \n",
    "    \n",
    "    \"\"\"\n",
    "    return vector / np.dot(vector, vector)\n",
    "    "
   ]
  },
  {
   "cell_type": "code",
   "execution_count": 4,
   "metadata": {
    "collapsed": false
   },
   "outputs": [],
   "source": []
  },
  {
   "cell_type": "code",
   "execution_count": 5,
   "metadata": {
    "collapsed": false
   },
   "outputs": [],
   "source": [
    "import dipy.reconst.dti as dti"
   ]
  },
  {
   "cell_type": "code",
   "execution_count": 6,
   "metadata": {
    "collapsed": false
   },
   "outputs": [],
   "source": [
    "def single_tensor(evecs, evals, bvec, bval=1, S0=1):\n",
    "    R = np.asarray(evecs)\n",
    "    D = np.dot(np.dot(R, np.diag(evals)), R.T)\n",
    "    return S0 * np.exp(-bval * np.dot(np.dot(bvec, D), bvec.T))"
   ]
  },
  {
   "cell_type": "code",
   "execution_count": 23,
   "metadata": {
    "collapsed": true
   },
   "outputs": [],
   "source": [
    "out_dir=np.array([1, 0, 0]) \n",
    "evals=np.array([1.5, 0.5, 0.5]) \n",
    "bval=1"
   ]
  },
  {
   "cell_type": "code",
   "execution_count": 29,
   "metadata": {
    "collapsed": false
   },
   "outputs": [],
   "source": [
    "def out_signal(out_dir, evals=np.array([1.5, 0.5, 0.5]), bval=1):\n",
    "    # Rotate the canonical tensor towards the output direction and  \n",
    "    # calculate the signal you would have gotten in the direction\n",
    "    canon_tensor = np.array([[evals[0], 0, 0], [0, evals[1], 0], [0, 0, evals[2]]])\n",
    "    rot_matrix = geo.vec2vec_rotmat(np.array([1,0,0]), out_dir)\n",
    "    out_tensor = np.dot(rot_matrix, canon_tensor)\n",
    "    evals, evecs = dti.decompose_tensor(out_tensor)\n",
    "    return single_tensor(evecs, evals, out_dir, bval=bval, S0=1)"
   ]
  },
  {
   "cell_type": "code",
   "execution_count": 30,
   "metadata": {
    "collapsed": false
   },
   "outputs": [
    {
     "data": {
      "text/plain": [
       "array([ 1.5,  0.5,  0.5])"
      ]
     },
     "execution_count": 30,
     "metadata": {},
     "output_type": "execute_result"
    }
   ],
   "source": [
    "evals"
   ]
  },
  {
   "cell_type": "code",
   "execution_count": 31,
   "metadata": {
    "collapsed": false
   },
   "outputs": [
    {
     "data": {
      "text/plain": [
       "array([[ 1.,  0.,  0.],\n",
       "       [ 0.,  0.,  1.],\n",
       "       [ 0.,  1.,  0.]])"
      ]
     },
     "execution_count": 31,
     "metadata": {},
     "output_type": "execute_result"
    }
   ],
   "source": [
    "evecs"
   ]
  },
  {
   "cell_type": "code",
   "execution_count": 32,
   "metadata": {
    "collapsed": false
   },
   "outputs": [
    {
     "data": {
      "text/plain": [
       "0.22313016014842982"
      ]
     },
     "execution_count": 32,
     "metadata": {},
     "output_type": "execute_result"
    }
   ],
   "source": [
    "single_tensor(evecs, evals, out_dir, bval=bval, S0=1)"
   ]
  },
  {
   "cell_type": "code",
   "execution_count": 33,
   "metadata": {
    "collapsed": false
   },
   "outputs": [
    {
     "data": {
      "text/plain": [
       "array([1, 0, 0])"
      ]
     },
     "execution_count": 33,
     "metadata": {},
     "output_type": "execute_result"
    }
   ],
   "source": [
    "out_dir"
   ]
  },
  {
   "cell_type": "code",
   "execution_count": 43,
   "metadata": {
    "collapsed": false
   },
   "outputs": [],
   "source": [
    "def design_signal(location, out_dir, in_dir, evals=np.array([1.5, 0.5, 0.5]), bval=1):\n",
    "\n",
    "    \"\"\"\n",
    "    location : the center-to-center location (relative to 0,0,0)\n",
    "    \n",
    "    in_dir : observations\n",
    "    out_dir : parameters\n",
    "    \n",
    "    \n",
    "    \"\"\" \n",
    "    this_signal = out_signal(out_dir, evals=np.array([1.5, 0.5, 0.5]), bval=1)\n",
    "    norm_location = l2norm(location)\n",
    "    out_corr = np.dot(norm_location, out_dir)\n",
    "    return out_corr * this_signal \n",
    "    \n",
    "    "
   ]
  },
  {
   "cell_type": "code",
   "execution_count": 44,
   "metadata": {
    "collapsed": false
   },
   "outputs": [],
   "source": [
    "def test_out_signal():\n",
    "    sig1 = out_signal(np.array([1, 0, 0]), np.array([1.5, 0.5, 0.5]), 1)\n",
    "    sig2 = single_tensor(np.eye(3), np.array([1.5, 0.5, 0.5]), np.array([1, 0, 0])) \n",
    "    assert sig1 == sig2\n",
    "              \n",
    "test_out_signal()"
   ]
  },
  {
   "cell_type": "code",
   "execution_count": 42,
   "metadata": {
    "collapsed": false
   },
   "outputs": [],
   "source": [
    "def test_out_signal():\n",
    "    sig1 = design_signal(np.array([1,0,0]), np.array([1,0,0]), np.array([1,0,0]))\n",
    "    sig2 = out_signal(np.array([1, 0, 0]), np.array([1.5, 0.5, 0.5]), 1)\n",
    "    assert sig1 == sig2\n",
    "\n",
    "test_out_signal()"
   ]
  },
  {
   "cell_type": "code",
   "execution_count": null,
   "metadata": {
    "collapsed": true
   },
   "outputs": [],
   "source": [
    "def design_matrix(sphere, bvecs):\n",
    "    \"\"\" \n",
    "\n",
    "    \"\"\"\n",
    "    \n",
    "    "
   ]
  },
  {
   "cell_type": "code",
   "execution_count": null,
   "metadata": {
    "collapsed": false
   },
   "outputs": [],
   "source": []
  }
 ],
 "metadata": {
  "kernelspec": {
   "display_name": "Python 2",
   "name": "python2"
  },
  "language_info": {
   "codemirror_mode": {
    "name": "ipython",
    "version": 2
   },
   "mimetype": "text/x-python",
   "name": "python",
   "pygments_lexer": "ipython2"
  },
  "signature": "sha256:2bb9c8dada79bf8b2b044ca82da918bb9c65ee8bacd184e866a4a6e9202f5259"
 },
 "nbformat": 4,
 "nbformat_minor": 0
}