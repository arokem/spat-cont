{
 "cells": [
  {
   "cell_type": "code",
   "execution_count": 1,
   "metadata": {
    "collapsed": false
   },
   "outputs": [],
   "source": [
    "import matplotlib.pyplot as plt\n",
    "%matplotlib inline\n",
    "import seaborn as sns\n",
    "import dipy.reconst.peaks as drp\n",
    "sns.set(style='whitegrid')"
   ]
  },
  {
   "cell_type": "code",
   "execution_count": 29,
   "metadata": {
    "collapsed": false
   },
   "outputs": [],
   "source": [
    "import os.path as op\n",
    "\n",
    "import numpy as np\n",
    "import scipy.ndimage as ndi\n",
    "\n",
    "import nibabel as nib\n",
    "import dipy.reconst.sfm as sfm\n",
    "import dipy.core.gradients as grad\n",
    "import dipy.core.optimize as opt\n",
    "import dipy.data as dpd\n",
    "from dipy.direction import DeterministicMaximumDirectionGetter, ProbabilisticDirectionGetter\n",
    "import dipy.viz.projections as proj\n",
    "from dipy.tracking.local import LocalTracking,ThresholdTissueClassifier\n",
    "from dipy.tracking.utils import seeds_from_mask\n",
    "import dipy.viz.fvtk as fvtk\n",
    "from dipy.viz.colormap import line_colors\n",
    "from dipy.tracking.utils import move_streamlines\n",
    "from numpy.linalg import inv\n",
    "\n",
    "\n",
    "import scm.scm as scm"
   ]
  },
  {
   "cell_type": "code",
   "execution_count": 3,
   "metadata": {
    "collapsed": false
   },
   "outputs": [
    {
     "name": "stdout",
     "output_type": "stream",
     "text": [
      "Dataset is already in place. If you want to fetch it again, please first remove the folder /Users/arokem/.dipy/stanford_hardi \n",
      "All files already in /Users/arokem/.dipy/stanford_hardi.\n"
     ]
    }
   ],
   "source": [
    "hardi_img, gtab, labels_img = dpd.read_stanford_labels()\n",
    "data = hardi_img.get_data()\n",
    "affine = hardi_img.get_affine()\n",
    "#data = data[40:50, 40:50, 40:50]\n",
    "labels = labels_img.get_data()\n",
    "mask = (labels == 1) | (labels == 2)"
   ]
  },
  {
   "cell_type": "code",
   "execution_count": 4,
   "metadata": {
    "collapsed": true
   },
   "outputs": [],
   "source": [
    "n_split = 75\n",
    "\n",
    "data_train = np.concatenate([data[..., :5], data[..., 10:85]], -1)\n",
    "data_test = np.concatenate([data[..., 5:10], data[..., 85:]], -1)\n",
    "\n",
    "gtab_train = grad.gradient_table_from_bvals_bvecs(np.concatenate([gtab.bvals[:5], gtab.bvals[10:85]]), \n",
    "                                                  np.concatenate([gtab.bvecs[:5], gtab.bvecs[10:85]]))\n",
    "\n",
    "gtab_test = grad.gradient_table_from_bvals_bvecs(np.concatenate([gtab.bvals[5:10], gtab.bvals[85:]]), \n",
    "                                                 np.concatenate([gtab.bvecs[5:10], gtab.bvecs[85:]]))"
   ]
  },
  {
   "cell_type": "code",
   "execution_count": 5,
   "metadata": {
    "collapsed": false
   },
   "outputs": [],
   "source": [
    "scmodel = scm.SpatContModel(gtab_train)\n",
    "sfmodel = sfm.SparseFascicleModel(gtab_train)"
   ]
  },
  {
   "cell_type": "code",
   "execution_count": 6,
   "metadata": {
    "collapsed": false
   },
   "outputs": [],
   "source": [
    "sffit = sfm.SparseFascicleFit(sfmodel, np.load('sf_beta.npy'), np.load('sf_S0.npy'), np.load('sf_mean.npy'))"
   ]
  },
  {
   "cell_type": "code",
   "execution_count": 7,
   "metadata": {
    "collapsed": true
   },
   "outputs": [],
   "source": [
    "sc_beta = np.load('sc_beta.npy')"
   ]
  },
  {
   "cell_type": "code",
   "execution_count": 8,
   "metadata": {
    "collapsed": false
   },
   "outputs": [],
   "source": [
    "scfit = scm.SpatContFit(scmodel, np.load('sc_beta.npy'), np.load('sc_S0.npy'), np.load('sc_mean.npy'))"
   ]
  },
  {
   "cell_type": "code",
   "execution_count": 9,
   "metadata": {
    "collapsed": true
   },
   "outputs": [],
   "source": [
    "scodf = scfit.odf(scmodel.sphere)"
   ]
  },
  {
   "cell_type": "code",
   "execution_count": null,
   "metadata": {
    "collapsed": false
   },
   "outputs": [],
   "source": [
    "ren = fvtk.ren()\n",
    "scodf_small = scodf[20:50, 55:85, 38:39]\n",
    "scodf_spheres = fvtk.sphere_funcs(scodf_small, scmodel.sphere, scale=0.13, norm=False)\n",
    "fvtk.add(ren, scodf_spheres)\n",
    "fvtk.record(ren, out_path='sc_odfs.png', size=(600,600))"
   ]
  },
  {
   "cell_type": "code",
   "execution_count": 12,
   "metadata": {
    "collapsed": false
   },
   "outputs": [],
   "source": [
    "LV1_ni = nib.load(op.join('/Users/arokem/projects/jov-white-matter-matters/data', 'SUB1_LV1.nii.gz'))\n",
    "LV1_data = LV1_ni.get_data()\n",
    "V1 = (LV1_data == 1)\n",
    "V1_extended = ndi.gaussian_filter(V1.astype(float), sigma=0.25).astype(bool)"
   ]
  },
  {
   "cell_type": "code",
   "execution_count": 13,
   "metadata": {
    "collapsed": true
   },
   "outputs": [],
   "source": [
    "seeds = seeds_from_mask(V1_extended, density=[2, 2, 2], affine=affine)\n",
    "classifier = ThresholdTissueClassifier(mask.astype(float), 0.0)"
   ]
  },
  {
   "cell_type": "code",
   "execution_count": 33,
   "metadata": {
    "collapsed": false
   },
   "outputs": [],
   "source": [
    "sl = []\n",
    "for fit, model in zip([scfit, sffit], [scmodel, sfmodel]):\n",
    "    #dir_getter = DeterministicMaximumDirectionGetter.from_pmf(fit.odf(model.sphere), 90, sphere=model.sphere)\n",
    "    dir_getter = ProbabilisticDirectionGetter.from_pmf(fit.odf(model.sphere), 30, sphere=model.sphere)\n",
    "    streamlines = LocalTracking(dir_getter, classifier, seeds, affine, step_size=.5)\n",
    "    len_th = 10\n",
    "    sl.append([s for s in streamlines if s.shape[0]>len_th])"
   ]
  },
  {
   "cell_type": "code",
   "execution_count": 34,
   "metadata": {
    "collapsed": true
   },
   "outputs": [],
   "source": [
    "t1 = nib.load(op.join('/Users/arokem/projects/jov-white-matter-matters/data', 'SUB1_t1_resamp.nii.gz'))\n",
    "t1_data = t1.get_data()\n",
    "t1_aff = t1.get_affine()\n",
    "color = line_colors(sl[0])"
   ]
  },
  {
   "cell_type": "code",
   "execution_count": 36,
   "metadata": {
    "collapsed": false
   },
   "outputs": [],
   "source": [
    "for this_sl, label in zip(sl, ['spat-cont', 'sfm']):\n",
    "    ren = fvtk.ren()\n",
    "    streamlines_actor = fvtk.streamtube(list(move_streamlines(this_sl, inv(t1_aff))),\n",
    "                                    line_colors(this_sl))\n",
    "    vol_actor = fvtk.slicer(t1_data, voxsz=(1.0, 1.0, 1.0), plane_i=[40],\n",
    "                        plane_j=None, plane_k=[25], outline=False)\n",
    "\n",
    "    \n",
    "    fvtk.add(ren, streamlines_actor)\n",
    "    fvtk.add(ren, vol_actor)\n",
    "    fvtk.camera(ren, viewup=(1,0,1), verbose=False)\n",
    "    fvtk.record(ren, out_path='%s-prob-track.png'%label, size=(600,600))"
   ]
  },
  {
   "cell_type": "code",
   "execution_count": 37,
   "metadata": {
    "collapsed": true
   },
   "outputs": [],
   "source": [
    "import dipy.tracking.life as life\n",
    "fiber_model = life.FiberModel(gtab)"
   ]
  },
  {
   "cell_type": "code",
   "execution_count": null,
   "metadata": {
    "collapsed": false
   },
   "outputs": [],
   "source": [
    "fit_sc = fiber_model.fit(data, sl[0], affine=np.linalg.inv(affine))"
   ]
  },
  {
   "cell_type": "code",
   "execution_count": null,
   "metadata": {
    "collapsed": false
   },
   "outputs": [],
   "source": [
    "fit_sf = fiber_model.fit(data, sl[1], affine=np.linalg.inv(affine))"
   ]
  },
  {
   "cell_type": "code",
   "execution_count": null,
   "metadata": {
    "collapsed": true
   },
   "outputs": [],
   "source": [
    "rmse = []\n",
    "\n",
    "for fiber_fit in [fit_sc, fit_sf]:\n",
    "    model_predict = fiber_fit.predict()\n",
    "    model_error = model_predict - fiber_fit.data\n",
    "    model_rmse = np.sqrt(np.mean(model_error[:, 10:] ** 2, -1))\n",
    "    rmse.append(model_rmse)"
   ]
  },
  {
   "cell_type": "code",
   "execution_count": null,
   "metadata": {
    "collapsed": false
   },
   "outputs": [],
   "source": [
    "fig, ax = plt.subplots(1)\n",
    "ax.hist(rmse[0], histtype='step', linewidth=2)\n",
    "ax.hist(rmse[1], histtype='step', linewidth=2)"
   ]
  },
  {
   "cell_type": "code",
   "execution_count": null,
   "metadata": {
    "collapsed": false
   },
   "outputs": [],
   "source": [
    "fit_sc.vox_coords.shape"
   ]
  },
  {
   "cell_type": "code",
   "execution_count": null,
   "metadata": {
    "collapsed": false
   },
   "outputs": [],
   "source": [
    "fit_sf.vox_coords.shape"
   ]
  },
  {
   "cell_type": "code",
   "execution_count": null,
   "metadata": {
    "collapsed": false
   },
   "outputs": [],
   "source": [
    "np.median(rmse[0])"
   ]
  },
  {
   "cell_type": "code",
   "execution_count": null,
   "metadata": {
    "collapsed": false
   },
   "outputs": [],
   "source": [
    "np.median(rmse[1])"
   ]
  },
  {
   "cell_type": "code",
   "execution_count": null,
   "metadata": {
    "collapsed": true
   },
   "outputs": [],
   "source": []
  }
 ],
 "metadata": {
  "kernelspec": {
   "display_name": "IPython (Python 2)",
   "name": "python2"
  },
  "language_info": {
   "codemirror_mode": {
    "name": "ipython",
    "version": 2
   },
   "file_extension": ".py",
   "mimetype": "text/x-python",
   "name": "python",
   "nbconvert_exporter": "python",
   "pygments_lexer": "ipython2",
   "version": "2.7.9"
  },
  "signature": "sha256:9f0aaf3092acf1963b378dd78a1fd297bbe794a58cd58a79693bfd62f82a3ea1"
 },
 "nbformat": 4,
 "nbformat_minor": 0
}