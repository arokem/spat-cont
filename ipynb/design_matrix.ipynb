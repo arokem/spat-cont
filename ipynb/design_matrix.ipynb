{
 "cells": [
  {
   "cell_type": "code",
   "execution_count": 1,
   "metadata": {
    "collapsed": true
   },
   "outputs": [],
   "source": [
    "import numpy as np\n",
    "import scipy.optimize as opt\n",
    "import matplotlib.pyplot as plt\n",
    "%matplotlib inline\n",
    "\n",
    "import dipy.data as dpd\n",
    "import dipy.core.sphere as dps \n",
    "import dipy.sims as sims\n",
    "import dipy.core.gradients as grad\n",
    "import dipy.core.geometry as geo\n",
    "import nibabel as nib"
   ]
  },
  {
   "cell_type": "code",
   "execution_count": 2,
   "metadata": {
    "collapsed": false
   },
   "outputs": [
    {
     "name": "stderr",
     "output_type": "stream",
     "text": [
      "/Users/arokem/anaconda3/envs/py2/lib/python2.7/site-packages/dipy/core/gradients.py:132: RuntimeWarning: invalid value encountered in less_equal\n",
      "  bvecs_close_to_1 = abs(vector_norm(bvecs) - 1) <= atol\n"
     ]
    }
   ],
   "source": [
    "fdata, fbval, fbvec = dpd.get_data()\n",
    "gtab = grad.gradient_table(fbval, fbvec)\n",
    "gtab.bvals = gtab.bvals/1000. # Make the units work out"
   ]
  },
  {
   "cell_type": "code",
   "execution_count": 3,
   "metadata": {
    "collapsed": true
   },
   "outputs": [],
   "source": [
    "data_ni = nib.load(fdata)"
   ]
  },
  {
   "cell_type": "code",
   "execution_count": 4,
   "metadata": {
    "collapsed": false
   },
   "outputs": [
    {
     "data": {
      "text/plain": [
       "<nibabel.nifti1.Nifti1Image at 0x1043141d0>"
      ]
     },
     "execution_count": 4,
     "metadata": {},
     "output_type": "execute_result"
    }
   ],
   "source": [
    "data_ni"
   ]
  },
  {
   "cell_type": "code",
   "execution_count": 5,
   "metadata": {
    "collapsed": true
   },
   "outputs": [],
   "source": [
    "data = data_ni.get_data()"
   ]
  },
  {
   "cell_type": "code",
   "execution_count": 6,
   "metadata": {
    "collapsed": false
   },
   "outputs": [],
   "source": [
    "sph1 = dpd.get_sphere()\n",
    "#sph1 = dps.Sphere(xyz=[[1,0,0], [0,1,0], [0,0,1]])"
   ]
  },
  {
   "cell_type": "code",
   "execution_count": 7,
   "metadata": {
    "collapsed": false
   },
   "outputs": [],
   "source": [
    "def l2norm(vector):\n",
    "    \"\"\" \n",
    "    \n",
    "    \n",
    "    \"\"\"\n",
    "    return vector / np.dot(vector, vector)\n",
    "    "
   ]
  },
  {
   "cell_type": "code",
   "execution_count": 8,
   "metadata": {
    "collapsed": false
   },
   "outputs": [],
   "source": [
    "import dipy.reconst.dti as dti"
   ]
  },
  {
   "cell_type": "code",
   "execution_count": 9,
   "metadata": {
    "collapsed": false
   },
   "outputs": [],
   "source": [
    "def single_tensor(evecs, evals, bvec, bval=1, S0=1):\n",
    "    R = np.asarray(evecs)\n",
    "    D = np.dot(np.dot(R, np.diag(evals)), R.T)\n",
    "    return S0 * np.exp(-bval * np.dot(np.dot(bvec, D), bvec.T))"
   ]
  },
  {
   "cell_type": "code",
   "execution_count": 10,
   "metadata": {
    "collapsed": true
   },
   "outputs": [],
   "source": [
    "out_dir=np.array([1, 0, 0]) \n",
    "evals=np.array([1.5, 0.5, 0.5]) \n",
    "bval=1"
   ]
  },
  {
   "cell_type": "code",
   "execution_count": 11,
   "metadata": {
    "collapsed": false
   },
   "outputs": [],
   "source": [
    "def out_signal(in_dir, out_dir, evals=np.array([1.5, 0.5, 0.5]), bval=1):\n",
    "    # Rotate the canonical tensor towards the output direction and  \n",
    "    # calculate the signal you would have gotten in the direction\n",
    "    evals = np.asarray(evals)\n",
    "    canon_tensor = np.array([[evals[0], 0, 0], [0, evals[1], 0], [0, 0, evals[2]]])\n",
    "    rot_matrix = geo.vec2vec_rotmat(np.array([1,0,0]), out_dir)\n",
    "    out_tensor = np.dot(rot_matrix, canon_tensor)\n",
    "    _, evecs = dti.decompose_tensor(out_tensor)\n",
    "    s = single_tensor(evecs, evals, in_dir, bval=bval, S0=1)    \n",
    "    return s"
   ]
  },
  {
   "cell_type": "code",
   "execution_count": 12,
   "metadata": {
    "collapsed": true
   },
   "outputs": [],
   "source": [
    "def distance_weight(dist, tau=1):\n",
    "    return np.exp(-dist/tau)"
   ]
  },
  {
   "cell_type": "code",
   "execution_count": 13,
   "metadata": {
    "collapsed": true
   },
   "outputs": [],
   "source": [
    "def weighting(location, out_dir, in_dir):\n",
    "    norm_location = l2norm(location)\n",
    "    out_corr = np.dot(norm_location, out_dir) \n",
    "    in_corr = np.dot(norm_location, in_dir)\n",
    "    return distance_weight(np.dot(location, location)) * out_corr * in_corr"
   ]
  },
  {
   "cell_type": "code",
   "execution_count": 14,
   "metadata": {
    "collapsed": false
   },
   "outputs": [],
   "source": [
    "def design_signal(location, in_dir, out_dir, evals=np.array([1.5, 0.5, 0.5]), bval=1):\n",
    "\n",
    "    \"\"\"\n",
    "    location : the center-to-center location (relative to 0,0,0)\n",
    "    \n",
    "    in_dir : observations\n",
    "    out_dir : parameters\n",
    "    \n",
    "    \"\"\" \n",
    "    this_signal = out_signal(in_dir, out_dir, evals=evals, bval=bval)\n",
    "    # If you are at the center location:\n",
    "    if np.all(location == np.array([0, 0, 0])):\n",
    "        return this_signal\n",
    "    # Otherwise, we need to downweight by distance and angle \n",
    "    else:\n",
    "        return weighting(location, out_dir, in_dir) * this_signal "
   ]
  },
  {
   "cell_type": "code",
   "execution_count": 15,
   "metadata": {
    "collapsed": false
   },
   "outputs": [],
   "source": [
    "def test_out_signal():\n",
    "    sig1 = out_signal(np.array([1, 0, 0]), np.array([1, 0, 0]), np.array([1.5, 0.5, 0.5]), 1)\n",
    "    sig2 = single_tensor(np.eye(3), np.array([1.5, 0.5, 0.5]), np.array([1, 0, 0])) \n",
    "    assert sig1 == sig2\n",
    "              \n",
    "test_out_signal()"
   ]
  },
  {
   "cell_type": "code",
   "execution_count": 16,
   "metadata": {
    "collapsed": false
   },
   "outputs": [],
   "source": [
    "def test_design_signal():\n",
    "    sig1 = design_signal(np.array([1, 0, 0]), np.array([1, 0, 0]), np.array([1, 0, 0]))\n",
    "    sig2 = out_signal(np.array([1, 0, 0]), np.array([1, 0, 0]), np.array([1.5, 0.5, 0.5]), 1)\n",
    "\n",
    "    assert sig1 == sig2\n",
    "\n",
    "test_out_signal()"
   ]
  },
  {
   "cell_type": "code",
   "execution_count": 19,
   "metadata": {
    "collapsed": false
   },
   "outputs": [],
   "source": [
    "dm = ana.design_matrix(gtab, sph1, evals=np.array([1, 0.5, 0.5]))"
   ]
  },
  {
   "cell_type": "code",
   "execution_count": 20,
   "metadata": {
    "collapsed": false
   },
   "outputs": [
    {
     "data": {
      "text/plain": [
       "[<matplotlib.lines.Line2D at 0x1078af5d0>]"
      ]
     },
     "execution_count": 20,
     "metadata": {},
     "output_type": "execute_result"
    },
    {
     "data": {
      "image/png": "[encoded data removed]",
      "text/plain": [
       "<matplotlib.figure.Figure at 0x10726f7d0>"
      ]
     },
     "metadata": {},
     "output_type": "display_data"
    }
   ],
   "source": [
    "plt.plot(dm[0][:, -1])\n",
    "plt.plot(dm[1][:, -1])"
   ]
  },
  {
   "cell_type": "code",
   "execution_count": 23,
   "metadata": {
    "collapsed": false
   },
   "outputs": [
    {
     "ename": "NameError",
     "evalue": "global name 'in_dir' is not defined",
     "output_type": "error",
     "traceback": [
      "\u001b[0;31m---------------------------------------------------------------------------\u001b[0m",
      "\u001b[0;31mNameError\u001b[0m                                 Traceback (most recent call last)",
      "\u001b[0;32m<ipython-input-23-a513b3043279>\u001b[0m in \u001b[0;36m<module>\u001b[0;34m()\u001b[0m\n\u001b[0;32m----> 1\u001b[0;31m \u001b[0mpp_sig\u001b[0m \u001b[0;34m=\u001b[0m \u001b[0mpreprocess_signal\u001b[0m\u001b[0;34m(\u001b[0m\u001b[0mdata\u001b[0m\u001b[0;34m,\u001b[0m \u001b[0mgtab\u001b[0m\u001b[0;34m,\u001b[0m \u001b[0;36m5\u001b[0m\u001b[0;34m,\u001b[0m \u001b[0;36m5\u001b[0m\u001b[0;34m,\u001b[0m \u001b[0;36m5\u001b[0m\u001b[0;34m)\u001b[0m\u001b[0;34m\u001b[0m\u001b[0m\n\u001b[0m",
      "\u001b[0;32m<ipython-input-22-9273266c2bba>\u001b[0m in \u001b[0;36mpreprocess_signal\u001b[0;34m(data, gtab, i, j, k)\u001b[0m\n\u001b[1;32m     15\u001b[0m                     \u001b[0mweighted_sig\u001b[0m \u001b[0;34m=\u001b[0m \u001b[0;34m[\u001b[0m\u001b[0;34m]\u001b[0m\u001b[0;34m\u001b[0m\u001b[0m\n\u001b[1;32m     16\u001b[0m                     \u001b[0;32mfor\u001b[0m \u001b[0mout_idx\u001b[0m\u001b[0;34m,\u001b[0m \u001b[0mout_dir\u001b[0m \u001b[0;32min\u001b[0m \u001b[0menumerate\u001b[0m\u001b[0;34m(\u001b[0m\u001b[0mgtab\u001b[0m\u001b[0;34m.\u001b[0m\u001b[0mbvecs\u001b[0m\u001b[0;34m[\u001b[0m\u001b[0;34m~\u001b[0m\u001b[0mgtab\u001b[0m\u001b[0;34m.\u001b[0m\u001b[0mb0s_mask\u001b[0m\u001b[0;34m]\u001b[0m\u001b[0;34m)\u001b[0m\u001b[0;34m:\u001b[0m\u001b[0;34m\u001b[0m\u001b[0m\n\u001b[0;32m---> 17\u001b[0;31m                         \u001b[0mweighted_sig\u001b[0m\u001b[0;34m.\u001b[0m\u001b[0mappend\u001b[0m\u001b[0;34m(\u001b[0m\u001b[0mweighting\u001b[0m\u001b[0;34m(\u001b[0m\u001b[0mlocation\u001b[0m\u001b[0;34m,\u001b[0m \u001b[0mout_dir\u001b[0m\u001b[0;34m,\u001b[0m \u001b[0min_dir\u001b[0m\u001b[0;34m)\u001b[0m \u001b[0;34m*\u001b[0m \u001b[0mthis_data\u001b[0m\u001b[0;34m[\u001b[0m\u001b[0mout_idx\u001b[0m\u001b[0;34m]\u001b[0m\u001b[0;34m)\u001b[0m\u001b[0;34m\u001b[0m\u001b[0m\n\u001b[0m\u001b[1;32m     18\u001b[0m                     \u001b[0msig\u001b[0m\u001b[0;34m.\u001b[0m\u001b[0mappend\u001b[0m\u001b[0;34m(\u001b[0m\u001b[0mnp\u001b[0m\u001b[0;34m.\u001b[0m\u001b[0marray\u001b[0m\u001b[0;34m(\u001b[0m\u001b[0mweighted_sig\u001b[0m\u001b[0;34m)\u001b[0m \u001b[0;34m-\u001b[0m \u001b[0mnp\u001b[0m\u001b[0;34m.\u001b[0m\u001b[0mmean\u001b[0m\u001b[0;34m(\u001b[0m\u001b[0mweighted_sig\u001b[0m\u001b[0;34m)\u001b[0m\u001b[0;34m)\u001b[0m\u001b[0;34m\u001b[0m\u001b[0m\n\u001b[1;32m     19\u001b[0m     \u001b[0;32mreturn\u001b[0m \u001b[0msig\u001b[0m\u001b[0;34m\u001b[0m\u001b[0m\n",
      "\u001b[0;31mNameError\u001b[0m: global name 'in_dir' is not defined"
     ]
    }
   ],
   "source": [
    "pp_sig = preprocess_signal(data, gtab, 5, 5, 5)"
   ]
  },
  {
   "cell_type": "code",
   "execution_count": null,
   "metadata": {
    "collapsed": false
   },
   "outputs": [],
   "source": [
    "plt.plot(np.concatenate(pp_sig))"
   ]
  },
  {
   "cell_type": "code",
   "execution_count": null,
   "metadata": {
    "collapsed": false
   },
   "outputs": [],
   "source": [
    "new_dm = np.concatenate(dm)\n",
    "new_sig = np.concatenate(pp_sig)"
   ]
  },
  {
   "cell_type": "code",
   "execution_count": null,
   "metadata": {
    "collapsed": true
   },
   "outputs": [],
   "source": [
    "import sklearn.linear_model as ElasticNet"
   ]
  },
  {
   "cell_type": "code",
   "execution_count": null,
   "metadata": {
    "collapsed": true
   },
   "outputs": [],
   "source": [
    "beta, rnorm = opt.nnls(new_dm, new_sig)"
   ]
  },
  {
   "cell_type": "code",
   "execution_count": null,
   "metadata": {
    "collapsed": false
   },
   "outputs": [],
   "source": [
    "y_hat = np.dot(new_dm, beta)"
   ]
  },
  {
   "cell_type": "code",
   "execution_count": null,
   "metadata": {
    "collapsed": false
   },
   "outputs": [],
   "source": [
    "plt.scatter(y_hat, new_sig)"
   ]
  },
  {
   "cell_type": "code",
   "execution_count": null,
   "metadata": {
    "collapsed": false
   },
   "outputs": [],
   "source": [
    "plt.scatter(y_hat[:64], new_sig[:64])\n",
    "plt.plot([-0.5, 0.5], [-0.5, 0.5], 'k--')"
   ]
  },
  {
   "cell_type": "code",
   "execution_count": null,
   "metadata": {
    "collapsed": true
   },
   "outputs": [],
   "source": [
    "beta_non, rnorm = opt.nnls(new_dm[:64], new_sig[:64])"
   ]
  },
  {
   "cell_type": "code",
   "execution_count": null,
   "metadata": {
    "collapsed": true
   },
   "outputs": [],
   "source": [
    "y_hat_non = np.dot(new_dm, beta_non)"
   ]
  },
  {
   "cell_type": "code",
   "execution_count": null,
   "metadata": {
    "collapsed": false
   },
   "outputs": [],
   "source": [
    "plt.scatter(y_hat_non, new_sig)"
   ]
  },
  {
   "cell_type": "code",
   "execution_count": null,
   "metadata": {
    "collapsed": false
   },
   "outputs": [],
   "source": [
    "plt.scatter(y_hat_non[:64], new_sig[:64])\n",
    "plt.plot([-0.5, 0.5], [-0.5, 0.5], 'k--')"
   ]
  },
  {
   "cell_type": "code",
   "execution_count": null,
   "metadata": {
    "collapsed": false
   },
   "outputs": [],
   "source": [
    "fig, ax = plt.subplots(2)\n",
    "ax[0].plot(beta_non)\n",
    "ax[1].plot(beta)"
   ]
  },
  {
   "cell_type": "code",
   "execution_count": null,
   "metadata": {
    "collapsed": false
   },
   "outputs": [],
   "source": [
    "len(npbeta_non), np.sum(beta)"
   ]
  },
  {
   "cell_type": "code",
   "execution_count": null,
   "metadata": {
    "collapsed": true
   },
   "outputs": [],
   "source": []
  }
 ],
 "metadata": {
  "kernelspec": {
   "display_name": "IPython (Python 2)",
   "name": "python2"
  },
  "language_info": {
   "codemirror_mode": {
    "name": "ipython",
    "version": 2
   },
   "mimetype": "text/x-python",
   "name": "python",
   "pygments_lexer": "ipython2"
  },
  "signature": "sha256:f8347f93cf33f7ff06eda7dc9f1b39798ad242c2234094f7d1ed53933b3ed7ad"
 },
 "nbformat": 4,
 "nbformat_minor": 0
}